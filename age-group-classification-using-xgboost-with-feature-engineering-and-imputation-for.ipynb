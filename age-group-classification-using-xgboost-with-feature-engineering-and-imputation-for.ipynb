{
 "cells": [
  {
   "cell_type": "code",
   "execution_count": 6,
   "id": "be733302",
   "metadata": {},
   "outputs": [
    {
     "name": "stdout",
     "output_type": "stream",
     "text": [
      "Requirement already satisfied: xgboost in /opt/anaconda3/lib/python3.12/site-packages (3.0.2)\n",
      "Requirement already satisfied: numpy in /opt/anaconda3/lib/python3.12/site-packages (from xgboost) (1.26.4)\n",
      "Requirement already satisfied: scipy in /opt/anaconda3/lib/python3.12/site-packages (from xgboost) (1.13.1)\n",
      "Note: you may need to restart the kernel to use updated packages.\n"
     ]
    }
   ],
   "source": [
    "pip install xgboost"
   ]
  },
  {
   "cell_type": "code",
   "execution_count": 7,
   "id": "cd477db9",
   "metadata": {},
   "outputs": [
    {
     "name": "stdout",
     "output_type": "stream",
     "text": [
      "XGBoost successfully imported!\n"
     ]
    }
   ],
   "source": [
    "from xgboost import XGBClassifier\n",
    "print(\"XGBoost successfully imported!\")\n"
   ]
  },
  {
   "cell_type": "code",
   "execution_count": 8,
   "id": "0455a603",
   "metadata": {},
   "outputs": [
    {
     "name": "stderr",
     "output_type": "stream",
     "text": [
      "/opt/anaconda3/lib/python3.12/site-packages/xgboost/training.py:183: UserWarning: [20:39:17] WARNING: /Users/runner/work/xgboost/xgboost/src/learner.cc:738: \n",
      "Parameters: { \"use_label_encoder\" } are not used.\n",
      "\n",
      "  bst.update(dtrain, iteration=i, fobj=obj)\n",
      "/opt/anaconda3/lib/python3.12/site-packages/xgboost/training.py:183: UserWarning: [20:39:17] WARNING: /Users/runner/work/xgboost/xgboost/src/learner.cc:738: \n",
      "Parameters: { \"use_label_encoder\" } are not used.\n",
      "\n",
      "  bst.update(dtrain, iteration=i, fobj=obj)\n",
      "/opt/anaconda3/lib/python3.12/site-packages/xgboost/training.py:183: UserWarning: [20:39:18] WARNING: /Users/runner/work/xgboost/xgboost/src/learner.cc:738: \n",
      "Parameters: { \"use_label_encoder\" } are not used.\n",
      "\n",
      "  bst.update(dtrain, iteration=i, fobj=obj)\n",
      "/opt/anaconda3/lib/python3.12/site-packages/xgboost/training.py:183: UserWarning: [20:39:18] WARNING: /Users/runner/work/xgboost/xgboost/src/learner.cc:738: \n",
      "Parameters: { \"use_label_encoder\" } are not used.\n",
      "\n",
      "  bst.update(dtrain, iteration=i, fobj=obj)\n",
      "/opt/anaconda3/lib/python3.12/site-packages/xgboost/training.py:183: UserWarning: [20:39:19] WARNING: /Users/runner/work/xgboost/xgboost/src/learner.cc:738: \n",
      "Parameters: { \"use_label_encoder\" } are not used.\n",
      "\n",
      "  bst.update(dtrain, iteration=i, fobj=obj)\n"
     ]
    },
    {
     "name": "stdout",
     "output_type": "stream",
     "text": [
      "✅ submission.csv created.\n",
      "📊 CV F1 Scores: [0.375, 0.3841059602649007, 0.375, 0.3472222222222222, 0.4533333333333333]\n",
      "📈 Mean F1 Score: 0.3869323031640912\n"
     ]
    }
   ],
   "source": [
    "#installing required models\n",
    "import pandas as pd\n",
    "import numpy as np\n",
    "from xgboost import XGBClassifier\n",
    "from sklearn.experimental import enable_iterative_imputer\n",
    "from sklearn.impute import IterativeImputer\n",
    "from sklearn.preprocessing import StandardScaler\n",
    "from sklearn.model_selection import StratifiedKFold\n",
    "from sklearn.metrics import f1_score\n",
    "\n",
    "# Loading data\n",
    "train = pd.read_csv(\"Train_Data.csv\")\n",
    "test = pd.read_csv(\"Test_Data.csv\")\n",
    "sample_submission = pd.read_csv(\"Sample_Submission.csv\")\n",
    "\n",
    "# Drop rows with missing target and encode\n",
    "train = train.dropna(subset=['age_group']).copy()\n",
    "train['age_group'] = train['age_group'].map({'Adult': 0, 'Senior': 1})\n",
    "\n",
    "# Feature list\n",
    "base_features = ['RIAGENDR', 'PAQ605', 'BMXBMI', 'LBXGLU', 'DIQ010', 'LBXGLT', 'LBXIN']\n",
    "\n",
    "# Feature engineering\n",
    "def add_features(df):\n",
    "    df = df.copy()\n",
    "    df['GLU_IN_RATIO'] = df['LBXGLU'] / (df['LBXIN'] + 1e-3)\n",
    "    df['GLT_IN_RATIO'] = df['LBXGLT'] / (df['LBXIN'] + 1e-3)\n",
    "    df['BMI_BIN'] = pd.qcut(df['BMXBMI'], 4, labels=False, duplicates='drop')\n",
    "    return df\n",
    "\n",
    "train = add_features(train)\n",
    "test = add_features(test)\n",
    "\n",
    "# Define full feature set\n",
    "features = base_features + ['GLU_IN_RATIO', 'GLT_IN_RATIO', 'BMI_BIN']\n",
    "\n",
    "X = train[features]\n",
    "y = train['age_group']\n",
    "X_test = test[features]\n",
    "\n",
    "# Combine train+test for consistent imputation\n",
    "combined = pd.concat([X, X_test], axis=0)\n",
    "imputer = IterativeImputer(random_state=42)\n",
    "combined_imputed = imputer.fit_transform(combined)\n",
    "\n",
    "# Split back\n",
    "X_imputed = combined_imputed[:len(X)]\n",
    "X_test_imputed = combined_imputed[len(X):]\n",
    "\n",
    "# Scale features\n",
    "scaler = StandardScaler()\n",
    "X_scaled = scaler.fit_transform(X_imputed)\n",
    "X_test_scaled = scaler.transform(X_test_imputed)\n",
    "\n",
    "# Initialize XGBoost\n",
    "model = XGBClassifier(\n",
    "    random_state=42,\n",
    "    use_label_encoder=False,\n",
    "    eval_metric='logloss',\n",
    "    scale_pos_weight=(y == 0).sum() / (y == 1).sum(),\n",
    "    n_estimators=250,\n",
    "    max_depth=5,\n",
    "    learning_rate=0.05\n",
    ")\n",
    "\n",
    "\n",
    "skf = StratifiedKFold(n_splits=5, shuffle=True, random_state=42)\n",
    "test_preds = np.zeros(X_test_scaled.shape[0])\n",
    "f1_scores = []\n",
    "\n",
    "for train_idx, val_idx in skf.split(X_scaled, y):\n",
    "    X_train, X_val = X_scaled[train_idx], X_scaled[val_idx]\n",
    "    y_train, y_val = y.iloc[train_idx], y.iloc[val_idx]\n",
    "\n",
    "    model.fit(X_train, y_train)\n",
    "    val_preds = model.predict(X_val)\n",
    "    f1 = f1_score(y_val, val_preds)\n",
    "    f1_scores.append(f1)\n",
    "\n",
    "    test_preds += model.predict(X_test_scaled)\n",
    "\n",
    "\n",
    "final_preds = (test_preds / skf.n_splits >= 0.5).astype(int)\n",
    "\n",
    "\n",
    "submission = pd.DataFrame({'age_group': final_preds})\n",
    "submission.to_csv(\"submission.csv\", index=False)\n",
    "\n",
    "print(\"✅ submission.csv created.\")\n",
    "print(\"📊 CV F1 Scores:\", f1_scores)\n",
    "print(\"📈 Mean F1 Score:\", np.mean(f1_scores))\n"
   ]
  }
 ],
 "metadata": {
  "kernelspec": {
   "display_name": "base",
   "language": "python",
   "name": "python3"
  },
  "language_info": {
   "codemirror_mode": {
    "name": "ipython",
    "version": 3
   },
   "file_extension": ".py",
   "mimetype": "text/x-python",
   "name": "python",
   "nbconvert_exporter": "python",
   "pygments_lexer": "ipython3",
   "version": "3.12.7"
  }
 },
 "nbformat": 4,
 "nbformat_minor": 5
}
